{
 "cells": [
  {
   "cell_type": "markdown",
   "metadata": {},
   "source": [
    "## Thermostatic conditions of typical indoor environments"
   ]
  },
  {
   "cell_type": "code",
   "execution_count": 1,
   "metadata": {},
   "outputs": [],
   "source": [
    "%matplotlib notebook \n",
    "%matplotlib inline"
   ]
  },
  {
   "cell_type": "markdown",
   "metadata": {},
   "source": [
    "## Imports:"
   ]
  },
  {
   "cell_type": "code",
   "execution_count": 2,
   "metadata": {},
   "outputs": [],
   "source": [
    "import h5py\n",
    "import numpy as np\n",
    "import pandas\n",
    "import pylab\n",
    "import math"
   ]
  },
  {
   "cell_type": "code",
   "execution_count": 3,
   "metadata": {},
   "outputs": [],
   "source": [
    "import matplotlib.pyplot as plt\n",
    "from mpl_toolkits.mplot3d import Axes3D\n",
    "from matplotlib import cm\n",
    "from matplotlib.ticker import LinearLocator, FormatStrFormatter, FixedLocator\n",
    "from matplotlib.legend_handler import HandlerLine2D"
   ]
  },
  {
   "cell_type": "markdown",
   "metadata": {},
   "source": [
    "## Available h5 data files (in data folder):\n",
    "### One-bedroom flat (Glasgow, UK)\n",
    "### 5 freefloating simulations for different months and 2 different HVAC strategies \n",
    "### (basic air node heat injection vs radiant walls)"
   ]
  },
  {
   "cell_type": "code",
   "execution_count": 4,
   "metadata": {},
   "outputs": [],
   "source": [
    "tenFlat_free_Feb = '../../data/h5_from_espr/free_floating/exergyResults_tenFlat_freeFloat_5-11Feb_compoundFull.h5'"
   ]
  },
  {
   "cell_type": "code",
   "execution_count": 5,
   "metadata": {},
   "outputs": [],
   "source": [
    "tenFlat_free_Nov = '../../data/h5_from_espr/free_floating/exergyResults_tenFlat_freeFloat_15-21Nov_compoundFull.h5'"
   ]
  },
  {
   "cell_type": "code",
   "execution_count": 6,
   "metadata": {},
   "outputs": [],
   "source": [
    "tenFlat_free_Mar = '../../data/h5_from_espr/free_floating/exergyResults_tenFlat_freeFloat_15-21Mar_compoundFull.h5'"
   ]
  },
  {
   "cell_type": "code",
   "execution_count": 7,
   "metadata": {},
   "outputs": [],
   "source": [
    "tenFlat_free_Jul = '../../data/h5_from_espr/free_floating/exergyResults_tenFlat_freeFloat_17-23Jul_compoundFull.h5'"
   ]
  },
  {
   "cell_type": "code",
   "execution_count": 8,
   "metadata": {},
   "outputs": [],
   "source": [
    "tenFlat_free_SepOct = '../../data/h5_from_espr/free_floating/exergyResults_tenFlat_freeFloat_29Sep-5Oct_compoundFull.h5'"
   ]
  },
  {
   "cell_type": "code",
   "execution_count": 9,
   "metadata": {},
   "outputs": [],
   "source": [
    "tenFlatHIns_unconstrained_Feb = '../../data/h5_from_espr/h_ins/exergyResults_tenFlat_hIns_5-11Feb_compoundFull_unconstrainedControl.h5'"
   ]
  },
  {
   "cell_type": "code",
   "execution_count": 10,
   "metadata": {},
   "outputs": [],
   "source": [
    "tenFlatHIns_basicControl_Feb = '../../data/h5_from_espr/h_ins/exergyResults_tenFlat_hIns_5-11Feb_compoundFull_BasicControl.h5'"
   ]
  },
  {
   "cell_type": "markdown",
   "metadata": {},
   "source": [
    "### Lists of datasets:"
   ]
  },
  {
   "cell_type": "code",
   "execution_count": 11,
   "metadata": {},
   "outputs": [],
   "source": [
    "freefloating_file_list = [tenFlat_free_Feb, tenFlat_free_Nov, tenFlat_free_Mar, tenFlat_free_Jul, tenFlat_free_SepOct]"
   ]
  },
  {
   "cell_type": "code",
   "execution_count": 12,
   "metadata": {},
   "outputs": [],
   "source": [
    "hvac_file_list = [tenFlatHIns_unconstrained_Feb, tenFlatHIns_basicControl_Feb]"
   ]
  },
  {
   "cell_type": "markdown",
   "metadata": {},
   "source": [
    "### Define a function used to scan the file stucture:"
   ]
  },
  {
   "cell_type": "code",
   "execution_count": 13,
   "metadata": {},
   "outputs": [],
   "source": [
    "from __future__ import print_function\n",
    "\n",
    "def scan_hdf5(path, recursive=True, tab_step=2):\n",
    "    def scan_node(g, tabs=0):\n",
    "        print(' ' * tabs, g.name)\n",
    "        for k, v in g.items():\n",
    "            if isinstance(v, h5py.Dataset):\n",
    "                print(' ' * tabs + ' ' * tab_step + ' -', v.name)\n",
    "            elif isinstance(v, h5py.Group) and recursive:\n",
    "                scan_node(v, tabs=tabs + tab_step)\n",
    "    with h5py.File(path, 'r') as f:\n",
    "        scan_node(f)"
   ]
  },
  {
   "cell_type": "code",
   "execution_count": 14,
   "metadata": {},
   "outputs": [
    {
     "name": "stdout",
     "output_type": "stream",
     "text": [
      " /\n",
      "   /01\n",
      "     - /01/layer_values\n",
      "     - /01/temperatures\n",
      "   /02\n",
      "     - /02/layer_values\n",
      "     - /02/temperatures\n",
      "   /03\n",
      "     - /03/layer_values\n",
      "     - /03/temperatures\n",
      "   /04\n",
      "     - /04/layer_values\n",
      "     - /04/temperatures\n"
     ]
    }
   ],
   "source": [
    "# free floating files structure\n",
    "scan_hdf5(tenFlat_free_Feb)"
   ]
  },
  {
   "cell_type": "code",
   "execution_count": 15,
   "metadata": {},
   "outputs": [
    {
     "name": "stdout",
     "output_type": "stream",
     "text": [
      " /\n",
      "   /01\n",
      "     - /01/layer_values\n",
      "     - /01/temperatures\n",
      "   /02\n",
      "     - /02/layer_values\n",
      "     - /02/temperatures\n",
      "   /03\n",
      "     - /03/layer_values\n",
      "     - /03/temperatures\n",
      "   /04\n",
      "     - /04/layer_values\n",
      "     - /04/temperatures\n",
      "   /05\n",
      "     - /05/layer_values\n",
      "     - /05/temperatures\n"
     ]
    }
   ],
   "source": [
    "# hvac files structure\n",
    "scan_hdf5(tenFlatHIns_basicControl_Feb)"
   ]
  },
  {
   "cell_type": "markdown",
   "metadata": {},
   "source": [
    "### layer_values: \n",
    "contains the properties of each construction layer (or volume of air) and the average layer temperature; "
   ]
  },
  {
   "cell_type": "markdown",
   "metadata": {},
   "source": [
    "### temperatures:\n",
    "contains the temperature (in deg C) of each node (each layer has 3 nodes, the boundary nodes are shared between adjacent layers)"
   ]
  },
  {
   "cell_type": "markdown",
   "metadata": {},
   "source": [
    "## Open the desired hdf5 file and call it f\n",
    "### (names and paths above, copy the desidered name in the next function) "
   ]
  },
  {
   "cell_type": "code",
   "execution_count": 16,
   "metadata": {},
   "outputs": [],
   "source": [
    "f = h5py.File(tenFlatHIns_unconstrained_Feb,'r')"
   ]
  },
  {
   "cell_type": "markdown",
   "metadata": {},
   "source": [
    "### check the structure of the file by listing its keys:"
   ]
  },
  {
   "cell_type": "code",
   "execution_count": 17,
   "metadata": {},
   "outputs": [
    {
     "data": {
      "text/plain": [
       "['01', '02', '03', '04', '05']"
      ]
     },
     "execution_count": 17,
     "metadata": {},
     "output_type": "execute_result"
    }
   ],
   "source": [
    "list(f.keys())"
   ]
  },
  {
   "cell_type": "code",
   "execution_count": 18,
   "metadata": {},
   "outputs": [
    {
     "data": {
      "text/plain": [
       "['layer_values', 'temperatures']"
      ]
     },
     "execution_count": 18,
     "metadata": {},
     "output_type": "execute_result"
    }
   ],
   "source": [
    "list(f['/01'].keys())"
   ]
  },
  {
   "cell_type": "code",
   "execution_count": 19,
   "metadata": {},
   "outputs": [],
   "source": [
    "# not sure how I can get the structure of the compound data inside... find out!\n",
    "# list(f['/01/layer_values'].fields)"
   ]
  },
  {
   "cell_type": "markdown",
   "metadata": {},
   "source": [
    "### Define a more convenient name for the relevant datasets:"
   ]
  },
  {
   "cell_type": "code",
   "execution_count": 20,
   "metadata": {},
   "outputs": [],
   "source": [
    "zone01=f['/01']"
   ]
  },
  {
   "cell_type": "code",
   "execution_count": 21,
   "metadata": {},
   "outputs": [],
   "source": [
    "zone02=f['/02']"
   ]
  },
  {
   "cell_type": "code",
   "execution_count": 22,
   "metadata": {},
   "outputs": [],
   "source": [
    "zone03=f['/03']"
   ]
  },
  {
   "cell_type": "code",
   "execution_count": 23,
   "metadata": {},
   "outputs": [],
   "source": [
    "layers_01=f['/01/layer_values']"
   ]
  },
  {
   "cell_type": "code",
   "execution_count": 24,
   "metadata": {},
   "outputs": [],
   "source": [
    "temperatures_01=f['/01/temperatures']"
   ]
  },
  {
   "cell_type": "code",
   "execution_count": 25,
   "metadata": {},
   "outputs": [],
   "source": [
    "layers_02=f['/02/layer_values']"
   ]
  },
  {
   "cell_type": "code",
   "execution_count": 26,
   "metadata": {},
   "outputs": [],
   "source": [
    "temperatures_02=f['/02/temperatures']"
   ]
  },
  {
   "cell_type": "code",
   "execution_count": 27,
   "metadata": {},
   "outputs": [],
   "source": [
    "layers_03=f['/03/layer_values']"
   ]
  },
  {
   "cell_type": "code",
   "execution_count": 28,
   "metadata": {},
   "outputs": [],
   "source": [
    "temperatures_03=f['/03/temperatures']"
   ]
  },
  {
   "cell_type": "markdown",
   "metadata": {},
   "source": [
    "### Check if possible to retrieve a value, e.g. the conductivity k of layer 1, surface 1, zone 01 at timestep 1:"
   ]
  },
  {
   "cell_type": "markdown",
   "metadata": {},
   "source": [
    "#### Format: layers_zone(layer,surface,timestep)"
   ]
  },
  {
   "cell_type": "code",
   "execution_count": 29,
   "metadata": {},
   "outputs": [
    {
     "data": {
      "text/plain": [
       "0.84"
      ]
     },
     "execution_count": 29,
     "metadata": {},
     "output_type": "execute_result"
    }
   ],
   "source": [
    "#indexes of zone dataset: layer,surface,timestep\n",
    "layers_01[1,1,1]['k']"
   ]
  },
  {
   "cell_type": "markdown",
   "metadata": {},
   "source": [
    "# ZONE: number of dataset"
   ]
  },
  {
   "cell_type": "code",
   "execution_count": 30,
   "metadata": {},
   "outputs": [],
   "source": [
    "zone_dataset = layers_01"
   ]
  },
  {
   "cell_type": "markdown",
   "metadata": {},
   "source": [
    "## CALCULATE THE THERMOSTATIC TEMPERATURE AT EACH TIMESTEP (here called 'dead_T' for brevity), INCLUDING ONLY 10CM OF INNER LAYERS"
   ]
  },
  {
   "cell_type": "markdown",
   "metadata": {},
   "source": [
    "### 1. for a specific timestep (hour) of a dataset:"
   ]
  },
  {
   "cell_type": "code",
   "execution_count": 31,
   "metadata": {},
   "outputs": [],
   "source": [
    "def calculate_dead_T(time,dataset):\n",
    "    dead_T = 0.0\n",
    "    dead_T_numerator = 0.0\n",
    "    dead_T_denominator = 0.0\n",
    "    for surf in range(0,dataset.shape[1]-2):\n",
    "        total_thickness_included = 0\n",
    "        for layer in range(0,dataset.shape[0]):\n",
    "            if total_thickness_included >= 0.10000:\n",
    "                break\n",
    "            if dataset[layer,surf,time]['k'] < 0.06:\n",
    "                break\n",
    "            if (total_thickness_included + dataset[layer][surf][time]['th']) <= 0.10000:\n",
    "                total_thickness_included += dataset[layer][surf][time]['th']\n",
    "                # and add the contribution with full thickness\n",
    "                dead_T_numerator += dataset[layer][surf][time]['d']*dataset[layer][surf][time]['th']*dataset[layer][surf][time]['A']*dataset[layer][surf][time]['c']*dataset[layer][surf][time]['T']\n",
    "                dead_T_denominator += dataset[layer][surf][time]['d']*dataset[layer][surf][time]['th']*dataset[layer][surf][time]['A']*dataset[layer][surf][time]['c']\n",
    "            else:\n",
    "                partial_layer_th = 0.10000 - total_thickness_included\n",
    "                total_thickness_included = 0.10000\n",
    "                # and add the contribution with partial thickness\n",
    "                dead_T_numerator += dataset[layer][surf][time]['d']*partial_layer_th*dataset[layer][surf][time]['A']*dataset[layer][surf][time]['c']*dataset[layer][surf][time]['T']\n",
    "                dead_T_denominator += dataset[layer][surf][time]['d']*partial_layer_th*dataset[layer][surf][time]['A']*dataset[layer][surf][time]['c']\n",
    "\n",
    "    dead_T = dead_T_numerator/dead_T_denominator\n",
    "    return dead_T   \n",
    "        "
   ]
  },
  {
   "cell_type": "markdown",
   "metadata": {},
   "source": [
    "### for example, at timestep 6 of the selected zone:"
   ]
  },
  {
   "cell_type": "code",
   "execution_count": 32,
   "metadata": {},
   "outputs": [
    {
     "data": {
      "text/plain": [
       "20.385390924063774"
      ]
     },
     "execution_count": 32,
     "metadata": {},
     "output_type": "execute_result"
    }
   ],
   "source": [
    "calculate_dead_T(6,zone_dataset)"
   ]
  },
  {
   "cell_type": "markdown",
   "metadata": {},
   "source": [
    "### 2. same calculation, as a function of time:"
   ]
  },
  {
   "cell_type": "code",
   "execution_count": 33,
   "metadata": {},
   "outputs": [],
   "source": [
    "def calculate_dead_T_array(dataset):\n",
    "    dead_T_array = np.zeros(shape=dataset.shape[2],dtype=float)\n",
    "    for time in range(0,dead_T_array.size):\n",
    "        dead_T_array[time] = calculate_dead_T(time,dataset)\n",
    "    return dead_T_array\n",
    "        "
   ]
  },
  {
   "cell_type": "code",
   "execution_count": 34,
   "metadata": {},
   "outputs": [],
   "source": [
    "deadTs = calculate_dead_T_array(zone_dataset)"
   ]
  },
  {
   "cell_type": "code",
   "execution_count": 35,
   "metadata": {},
   "outputs": [
    {
     "data": {
      "image/png": "[encoded data removed]",
      "text/plain": [
       "<Figure size 432x288 with 1 Axes>"
      ]
     },
     "metadata": {
      "needs_background": "light"
     },
     "output_type": "display_data"
    }
   ],
   "source": [
    "x_coordinate = [ i+1 for i in range(len(deadTs)) ]\n",
    "plt.plot(x_coordinate,deadTs)\n",
    "plt.savefig('../../results/example_thermostatic_plot.png')"
   ]
  },
  {
   "cell_type": "markdown",
   "metadata": {},
   "source": [
    "## Produce figures for all the zones in one file"
   ]
  },
  {
   "cell_type": "code",
   "execution_count": null,
   "metadata": {},
   "outputs": [],
   "source": [
    "file_num = 0\n",
    "for file in hvac_file_list:\n",
    "    \n",
    "    file_num = file_num + 1\n",
    "    f = h5py.File(file,'r')\n",
    "    \n",
    "    zone_01=f['/01/layer_values'] # bedroom\n",
    "    zone_02=f['/02/layer_values'] # living room\n",
    "    zone_03=f['/03/layer_values'] # bathroom\n",
    "    zone_04=f['/04/layer_values'] # loft\n",
    "    zone_05=f['/05/layer_values'] # hall\n",
    "    zone_datasets = [zone_01,zone_02,zone_03,zone_04,zone_05]\n",
    "    \n",
    "    z = 0\n",
    "    for zone_dataset in zone_datasets:\n",
    "        z = z+1\n",
    "        deadTs = calculate_dead_T_array(zone_dataset)\n",
    "        \n",
    "        x_coordinate = [ i+1 for i in range(len(deadTs)) ]\n",
    "        plt.plot(x_coordinate,deadTs)\n",
    "        plt.savefig('../../results/'+str(file_num)+'_'+str(z)+'.png')"
   ]
  }
 ],
 "metadata": {
  "kernelspec": {
   "display_name": "Python 3",
   "language": "python",
   "name": "python3"
  },
  "language_info": {
   "codemirror_mode": {
    "name": "ipython",
    "version": 3
   },
   "file_extension": ".py",
   "mimetype": "text/x-python",
   "name": "python",
   "nbconvert_exporter": "python",
   "pygments_lexer": "ipython3",
   "version": "3.8.5"
  }
 },
 "nbformat": 4,
 "nbformat_minor": 4
}
