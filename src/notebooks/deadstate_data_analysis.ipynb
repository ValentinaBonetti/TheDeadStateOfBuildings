{
 "cells": [
  {
   "cell_type": "code",
   "execution_count": 1,
   "metadata": {},
   "outputs": [],
   "source": [
    "%matplotlib notebook \n",
    "%matplotlib inline\n",
    "# %matplotlib widget"
   ]
  },
  {
   "cell_type": "markdown",
   "metadata": {},
   "source": [
    "## Imports:"
   ]
  },
  {
   "cell_type": "code",
   "execution_count": 2,
   "metadata": {},
   "outputs": [],
   "source": [
    "import h5py"
   ]
  },
  {
   "cell_type": "code",
   "execution_count": 3,
   "metadata": {},
   "outputs": [],
   "source": [
    "import numpy as np"
   ]
  },
  {
   "cell_type": "code",
   "execution_count": 4,
   "metadata": {},
   "outputs": [],
   "source": [
    "import matplotlib.pyplot as plt"
   ]
  },
  {
   "cell_type": "code",
   "execution_count": 5,
   "metadata": {},
   "outputs": [],
   "source": [
    "from mpl_toolkits.mplot3d import Axes3D\n",
    "\n",
    "from matplotlib import cm\n",
    "\n",
    "from matplotlib.ticker import LinearLocator, FormatStrFormatter, FixedLocator"
   ]
  },
  {
   "cell_type": "code",
   "execution_count": 6,
   "metadata": {},
   "outputs": [],
   "source": [
    "from matplotlib.legend_handler import HandlerLine2D"
   ]
  },
  {
   "cell_type": "code",
   "execution_count": 7,
   "metadata": {},
   "outputs": [],
   "source": [
    "import pylab"
   ]
  },
  {
   "cell_type": "code",
   "execution_count": 8,
   "metadata": {},
   "outputs": [],
   "source": [
    "import pandas"
   ]
  },
  {
   "cell_type": "code",
   "execution_count": 9,
   "metadata": {},
   "outputs": [],
   "source": [
    "import math"
   ]
  },
  {
   "cell_type": "markdown",
   "metadata": {},
   "source": [
    "## Available h5 data files:"
   ]
  },
  {
   "cell_type": "code",
   "execution_count": 10,
   "metadata": {},
   "outputs": [],
   "source": [
    "tenFlat_free_Feb = '../../data/h5_from_espr/free_floating/exergyResults_tenFlat_freeFloat_5-11Feb_compoundFull.h5'"
   ]
  },
  {
   "cell_type": "code",
   "execution_count": 11,
   "metadata": {},
   "outputs": [],
   "source": [
    "tenFlat_free_Nov = '../../data/h5_from_espr/free_floating/exergyResults_tenFlat_freeFloat_15-21Nov_compoundFull.h5'"
   ]
  },
  {
   "cell_type": "code",
   "execution_count": 12,
   "metadata": {},
   "outputs": [],
   "source": [
    "tenFlat_free_Mar = '../../data/h5_from_espr/free_floating/exergyResults_tenFlat_freeFloat_15-21Mar_compoundFull.h5'"
   ]
  },
  {
   "cell_type": "code",
   "execution_count": 13,
   "metadata": {},
   "outputs": [],
   "source": [
    "tenFlat_free_Jul = '../../data/h5_from_espr/free_floating/exergyResults_tenFlat_freeFloat_17-23Jul_compoundFull.h5'"
   ]
  },
  {
   "cell_type": "code",
   "execution_count": 14,
   "metadata": {},
   "outputs": [],
   "source": [
    "tenFlat_free_SepOct = '../../data/h5_from_espr/free_floating/exergyResults_tenFlat_freeFloat_29Sep-5Oct_compoundFull.h5'"
   ]
  },
  {
   "cell_type": "code",
   "execution_count": 15,
   "metadata": {},
   "outputs": [],
   "source": [
    "tenFlatHIns_unconstrained_Feb = '../../data/h5_from_espr/h_ins/exergyResults_tenFlat_hIns_5-11Feb_compoundFull_unconstrainedControl.h5'"
   ]
  },
  {
   "cell_type": "code",
   "execution_count": 16,
   "metadata": {},
   "outputs": [],
   "source": [
    "tenFlatHIns_basicControl_Feb = '../../data/h5_from_espr/h_ins/exergyResults_tenFlat_hIns_5-11Feb_compoundFull_BasicControl.h5'"
   ]
  },
  {
   "cell_type": "markdown",
   "metadata": {},
   "source": [
    "### List of all datasets:"
   ]
  },
  {
   "cell_type": "code",
   "execution_count": 17,
   "metadata": {},
   "outputs": [],
   "source": [
    "file_list = [tenFlat_free_Feb, tenFlat_free_Nov, tenFlat_free_Mar, tenFlat_free_Jul, tenFlat_free_SepOct, tenFlatHIns_unconstrained_Feb, tenFlatHIns_basicControl_Feb]"
   ]
  },
  {
   "cell_type": "code",
   "execution_count": 18,
   "metadata": {},
   "outputs": [],
   "source": [
    "hvac_file_list = [tenFlatHIns_unconstrained_Feb, tenFlatHIns_basicControl_Feb]"
   ]
  },
  {
   "cell_type": "markdown",
   "metadata": {},
   "source": [
    "### Define a function used to scan the file stucture:"
   ]
  },
  {
   "cell_type": "code",
   "execution_count": 19,
   "metadata": {},
   "outputs": [],
   "source": [
    "from __future__ import print_function\n",
    "\n",
    "def scan_hdf5(path, recursive=True, tab_step=2):\n",
    "    def scan_node(g, tabs=0):\n",
    "        print(' ' * tabs, g.name)\n",
    "        for k, v in g.items():\n",
    "            if isinstance(v, h5py.Dataset):\n",
    "                print(' ' * tabs + ' ' * tab_step + ' -', v.name)\n",
    "            elif isinstance(v, h5py.Group) and recursive:\n",
    "                scan_node(v, tabs=tabs + tab_step)\n",
    "    with h5py.File(path, 'r') as f:\n",
    "        scan_node(f)"
   ]
  },
  {
   "cell_type": "code",
   "execution_count": 20,
   "metadata": {},
   "outputs": [
    {
     "name": "stdout",
     "output_type": "stream",
     "text": [
      " /\n",
      "   /01\n",
      "     - /01/layer_values\n",
      "     - /01/temperatures\n",
      "   /02\n",
      "     - /02/layer_values\n",
      "     - /02/temperatures\n",
      "   /03\n",
      "     - /03/layer_values\n",
      "     - /03/temperatures\n",
      "   /04\n",
      "     - /04/layer_values\n",
      "     - /04/temperatures\n",
      "   /05\n",
      "     - /05/layer_values\n",
      "     - /05/temperatures\n"
     ]
    }
   ],
   "source": [
    "scan_hdf5(tenFlatHIns_unconstrained_Feb)"
   ]
  },
  {
   "cell_type": "markdown",
   "metadata": {},
   "source": [
    "### layer_values: \n",
    "contains the properties of each construction layer (or volume of air) and the average layer temperature; "
   ]
  },
  {
   "cell_type": "markdown",
   "metadata": {},
   "source": [
    "### temperatures:\n",
    "contains the temperature (in deg C) of each node (each layer has 3 nodes, the boundary nodes are shared between adjacent layers)"
   ]
  },
  {
   "cell_type": "markdown",
   "metadata": {},
   "source": [
    "## Open the desired hdf5 file and call it f\n",
    "### (names and paths above, copy the desidered name in the next function) "
   ]
  },
  {
   "cell_type": "code",
   "execution_count": 21,
   "metadata": {},
   "outputs": [],
   "source": [
    "f = h5py.File(tenFlatHIns_unconstrained_Feb,'r')"
   ]
  },
  {
   "cell_type": "markdown",
   "metadata": {},
   "source": [
    "### check the structure of the file by listing its keys:"
   ]
  },
  {
   "cell_type": "code",
   "execution_count": 22,
   "metadata": {},
   "outputs": [
    {
     "data": {
      "text/plain": [
       "['01', '02', '03', '04', '05']"
      ]
     },
     "execution_count": 22,
     "metadata": {},
     "output_type": "execute_result"
    }
   ],
   "source": [
    "list(f.keys())"
   ]
  },
  {
   "cell_type": "code",
   "execution_count": 23,
   "metadata": {},
   "outputs": [
    {
     "data": {
      "text/plain": [
       "['layer_values', 'temperatures']"
      ]
     },
     "execution_count": 23,
     "metadata": {},
     "output_type": "execute_result"
    }
   ],
   "source": [
    "list(f['/01'].keys())"
   ]
  },
  {
   "cell_type": "code",
   "execution_count": 24,
   "metadata": {},
   "outputs": [],
   "source": [
    "# not sure how I can get the structure of the compound data inside... find out!\n",
    "# list(f['/01/layer_values'].fields)"
   ]
  },
  {
   "cell_type": "markdown",
   "metadata": {},
   "source": [
    "### Define a more convenient name for the relevant datasets:"
   ]
  },
  {
   "cell_type": "code",
   "execution_count": 25,
   "metadata": {},
   "outputs": [],
   "source": [
    "zone01=f['/01']"
   ]
  },
  {
   "cell_type": "code",
   "execution_count": 26,
   "metadata": {},
   "outputs": [],
   "source": [
    "zone02=f['/02']"
   ]
  },
  {
   "cell_type": "code",
   "execution_count": 27,
   "metadata": {},
   "outputs": [],
   "source": [
    "zone03=f['/03']"
   ]
  },
  {
   "cell_type": "code",
   "execution_count": 28,
   "metadata": {},
   "outputs": [],
   "source": [
    "layers_01=f['/01/layer_values']"
   ]
  },
  {
   "cell_type": "code",
   "execution_count": 29,
   "metadata": {},
   "outputs": [],
   "source": [
    "temperatures_01=f['/01/temperatures']"
   ]
  },
  {
   "cell_type": "code",
   "execution_count": 30,
   "metadata": {},
   "outputs": [],
   "source": [
    "layers_02=f['/02/layer_values']"
   ]
  },
  {
   "cell_type": "code",
   "execution_count": 31,
   "metadata": {},
   "outputs": [],
   "source": [
    "temperatures_02=f['/02/temperatures']"
   ]
  },
  {
   "cell_type": "code",
   "execution_count": 32,
   "metadata": {},
   "outputs": [],
   "source": [
    "layers_03=f['/03/layer_values']"
   ]
  },
  {
   "cell_type": "code",
   "execution_count": 33,
   "metadata": {},
   "outputs": [],
   "source": [
    "temperatures_03=f['/03/temperatures']"
   ]
  },
  {
   "cell_type": "markdown",
   "metadata": {},
   "source": [
    "### Check if possible to retrieve a value, for instance the conductivity k of layer 1, surface 1, zone 01 at timestep 1 "
   ]
  },
  {
   "cell_type": "markdown",
   "metadata": {},
   "source": [
    "#### Format: layers_zone(layer,surface,timestep)"
   ]
  },
  {
   "cell_type": "code",
   "execution_count": 34,
   "metadata": {},
   "outputs": [
    {
     "data": {
      "text/plain": [
       "0.84"
      ]
     },
     "execution_count": 34,
     "metadata": {},
     "output_type": "execute_result"
    }
   ],
   "source": [
    "#indexes of zone dataset: layer,surface,timestep\n",
    "layers_01[1,1,1]['k']"
   ]
  },
  {
   "cell_type": "markdown",
   "metadata": {},
   "source": [
    "# ZONE: number of dataset"
   ]
  },
  {
   "cell_type": "code",
   "execution_count": 35,
   "metadata": {},
   "outputs": [],
   "source": [
    "zone_dataset = layers_01"
   ]
  },
  {
   "cell_type": "markdown",
   "metadata": {},
   "source": [
    "## CALCULATE DEAD STATE AT EACH TIME INCLUDING ONLY 10CM OF INNER LAYERS"
   ]
  },
  {
   "cell_type": "markdown",
   "metadata": {},
   "source": [
    "### 1. for a specific timestep (hour) of a dataset:"
   ]
  },
  {
   "cell_type": "code",
   "execution_count": 36,
   "metadata": {},
   "outputs": [],
   "source": [
    "def calculate_dead_T(time,dataset):\n",
    "    dead_T = 0.0\n",
    "    dead_T_numerator = 0.0\n",
    "    dead_T_denominator = 0.0\n",
    "    for surf in range(0,dataset.shape[1]-2):\n",
    "        total_thickness_included = 0\n",
    "        for layer in range(0,dataset.shape[0]):\n",
    "            if total_thickness_included >= 0.10000:\n",
    "                break\n",
    "            if dataset[layer,surf,time]['k'] < 0.06:\n",
    "                break\n",
    "            if (total_thickness_included + dataset[layer][surf][time]['th']) <= 0.10000:\n",
    "                total_thickness_included += dataset[layer][surf][time]['th']\n",
    "                # and add the contribution with full thickness\n",
    "                dead_T_numerator += dataset[layer][surf][time]['d']*dataset[layer][surf][time]['th']*dataset[layer][surf][time]['A']*dataset[layer][surf][time]['c']*dataset[layer][surf][time]['T']\n",
    "                dead_T_denominator += dataset[layer][surf][time]['d']*dataset[layer][surf][time]['th']*dataset[layer][surf][time]['A']*dataset[layer][surf][time]['c']\n",
    "            else:\n",
    "                partial_layer_th = 0.10000 - total_thickness_included\n",
    "                total_thickness_included = 0.10000\n",
    "                # and add the contribution with partial thickness\n",
    "                dead_T_numerator += dataset[layer][surf][time]['d']*partial_layer_th*dataset[layer][surf][time]['A']*dataset[layer][surf][time]['c']*dataset[layer][surf][time]['T']\n",
    "                dead_T_denominator += dataset[layer][surf][time]['d']*partial_layer_th*dataset[layer][surf][time]['A']*dataset[layer][surf][time]['c']\n",
    "\n",
    "    dead_T = dead_T_numerator/dead_T_denominator\n",
    "    return dead_T   \n",
    "        "
   ]
  },
  {
   "cell_type": "markdown",
   "metadata": {},
   "source": [
    "### for example, at timestep 6 of the selected zone:"
   ]
  },
  {
   "cell_type": "code",
   "execution_count": 37,
   "metadata": {},
   "outputs": [
    {
     "data": {
      "text/plain": [
       "20.385390924063774"
      ]
     },
     "execution_count": 37,
     "metadata": {},
     "output_type": "execute_result"
    }
   ],
   "source": [
    "calculate_dead_T(6,zone_dataset)"
   ]
  },
  {
   "cell_type": "markdown",
   "metadata": {},
   "source": [
    "### 2. function of time:"
   ]
  },
  {
   "cell_type": "code",
   "execution_count": 38,
   "metadata": {},
   "outputs": [],
   "source": [
    "def calculate_dead_T_array(dataset):\n",
    "    dead_T_array = np.zeros(shape=dataset.shape[2],dtype=float)\n",
    "    for time in range(0,dead_T_array.size):\n",
    "        dead_T_array[time] = calculate_dead_T(time,dataset)\n",
    "    return dead_T_array\n",
    "        "
   ]
  },
  {
   "cell_type": "code",
   "execution_count": 39,
   "metadata": {},
   "outputs": [],
   "source": [
    "deadTs = calculate_dead_T_array(zone_dataset)"
   ]
  },
  {
   "cell_type": "code",
   "execution_count": 40,
   "metadata": {},
   "outputs": [
    {
     "data": {
      "text/plain": [
       "array([20.00394567, 20.54795493, 20.47122461, 20.40408721, 20.35632157,\n",
       "       20.35055247, 20.38539092, 20.43067382, 20.46188898, 20.48154435,\n",
       "       20.5004818 , 20.51375263, 20.50775448, 20.48499382, 20.4564505 ,\n",
       "       20.41842772, 20.36152806, 20.28624219, 20.21106504, 20.14478942,\n",
       "       20.07542902, 19.99838614, 19.92750352, 19.8837369 , 20.62401465,\n",
       "       19.90575251, 19.98165929, 20.09647519, 20.24447309, 20.41915222,\n",
       "       20.61286852, 20.8192134 , 21.02665782, 21.20334301, 21.32128255,\n",
       "       21.39515881, 21.44341559, 21.46533476, 21.46040117, 21.43149522,\n",
       "       21.38033143, 21.30961198, 21.23457737, 21.16707707, 21.095943  ,\n",
       "       21.01269938, 20.92896781, 20.85298258, 19.87487261, 20.6939306 ,\n",
       "       20.60404927, 20.51665266, 20.42846663, 20.34585191, 20.29001529,\n",
       "       20.27012455, 20.28356018, 20.31774369, 20.33419838, 20.30502216,\n",
       "       20.25690289, 20.21018337, 20.15219102, 20.0799003 , 20.00424601,\n",
       "       19.93125738, 19.85161552, 19.77280936, 19.70885592, 19.64259174,\n",
       "       19.57615188, 19.53725375, 20.77783468, 19.53599582, 19.57850467,\n",
       "       19.66854546, 19.79290728, 19.94055163, 20.11179327, 20.27859991,\n",
       "       20.41168488, 20.52220325, 20.61604036, 20.67771968, 20.71414701,\n",
       "       20.7310562 , 20.72341347, 20.70599477, 20.6746391 , 20.6160023 ,\n",
       "       20.5455178 , 20.47684285, 20.40180155, 20.30795475, 20.22076952,\n",
       "       20.1646733 , 19.5268045 , 20.10697138, 20.12892621, 20.18238501,\n",
       "       20.27033028, 20.38998101, 20.52493925, 20.64650925, 20.72888437,\n",
       "       20.7763375 , 20.79672062, 20.79656348, 20.78329077, 20.75481774,\n",
       "       20.71258956, 20.66359927, 20.60583052, 20.52035323, 20.42279415,\n",
       "       20.34968301, 20.27935405, 20.18691675, 20.09933682, 20.03870573,\n",
       "       20.1239725 , 19.99786932, 20.03023348, 20.09419021, 20.19107968,\n",
       "       20.32449509, 20.47429385, 20.59251735, 20.66391002, 20.70646488,\n",
       "       20.73669089, 20.75020015, 20.7394361 , 20.71504793, 20.6740552 ,\n",
       "       20.62009813, 20.56066472, 20.49185696, 20.41788198, 20.34194219,\n",
       "       20.26038901, 20.17188806, 20.09140017, 20.03699665, 20.0022969 ,\n",
       "       20.00033137, 20.04735215, 20.13428479, 20.24876124, 20.38614659,\n",
       "       20.53409151, 20.66225365, 20.73540293, 20.76094174, 20.76459382,\n",
       "       20.75354461, 20.73005645, 20.69442151, 20.64720113, 20.59229314,\n",
       "       20.53110852, 20.46308353, 20.39079146, 20.32215227, 20.25598242,\n",
       "       20.18188704, 20.10865633, 20.0582104 ])"
      ]
     },
     "execution_count": 40,
     "metadata": {},
     "output_type": "execute_result"
    }
   ],
   "source": [
    "deadTs"
   ]
  },
  {
   "cell_type": "code",
   "execution_count": 41,
   "metadata": {},
   "outputs": [
    {
     "data": {
      "image/png": "[encoded data removed]",
      "text/plain": [
       "<Figure size 432x288 with 1 Axes>"
      ]
     },
     "metadata": {
      "needs_background": "light"
     },
     "output_type": "display_data"
    }
   ],
   "source": [
    "x_coordinate = [ i+1 for i in range(len(deadTs)) ]\n",
    "plt.plot(x_coordinate,deadTs)\n",
    "plt.savefig('../../results/myplot.png')"
   ]
  },
  {
   "cell_type": "markdown",
   "metadata": {},
   "source": [
    "## Produce figures for all the zones in one file"
   ]
  },
  {
   "cell_type": "code",
   "execution_count": 46,
   "metadata": {},
   "outputs": [
    {
     "data": {
      "image/png": "[encoded data removed]",
      "text/plain": [
       "<Figure size 432x288 with 1 Axes>"
      ]
     },
     "metadata": {
      "needs_background": "light"
     },
     "output_type": "display_data"
    }
   ],
   "source": [
    "file_num = 0\n",
    "for file in hvac_file_list:\n",
    "    \n",
    "    file_num = file_num + 1\n",
    "    f = h5py.File(file,'r')\n",
    "    \n",
    "    zone_01=f['/01/layer_values'] # bedroom\n",
    "    zone_02=f['/02/layer_values'] # living room\n",
    "    zone_03=f['/03/layer_values'] # bathroom\n",
    "    zone_04=f['/04/layer_values'] # loft\n",
    "    zone_05=f['/05/layer_values'] # hall\n",
    "    zone_datasets = [zone_01,zone_02,zone_03,zone_04,zone_05]\n",
    "    \n",
    "    z = 0\n",
    "    for zone_dataset in zone_datasets:\n",
    "        z = z+1\n",
    "        deadTs = calculate_dead_T_array(zone_dataset)\n",
    "        \n",
    "        x_coordinate = [ i+1 for i in range(len(deadTs)) ]\n",
    "        plt.plot(x_coordinate,deadTs)\n",
    "        plt.savefig('../../results/'+str(file_num)+'_'+str(z)+'.png')"
   ]
  },
  {
   "cell_type": "code",
   "execution_count": 45,
   "metadata": {},
   "outputs": [
    {
     "data": {
      "text/plain": [
       "'../../data/h5_from_espr/h_ins/exergyResults_tenFlat_hIns_5-11Feb_compoundFull_unconstrainedControl.h5'"
      ]
     },
     "execution_count": 45,
     "metadata": {},
     "output_type": "execute_result"
    }
   ],
   "source": [
    "file"
   ]
  },
  {
   "cell_type": "code",
   "execution_count": null,
   "metadata": {},
   "outputs": [],
   "source": []
  }
 ],
 "metadata": {
  "kernelspec": {
   "display_name": "Python 3",
   "language": "python",
   "name": "python3"
  },
  "language_info": {
   "codemirror_mode": {
    "name": "ipython",
    "version": 3
   },
   "file_extension": ".py",
   "mimetype": "text/x-python",
   "name": "python",
   "nbconvert_exporter": "python",
   "pygments_lexer": "ipython3",
   "version": "3.8.5"
  }
 },
 "nbformat": 4,
 "nbformat_minor": 4
}
